{
 "cells": [
  {
   "cell_type": "markdown",
   "metadata": {},
   "source": [
    "# Gesture Recognition\n",
    "In this group project, you are going to build a 3D Conv model that will be able to predict the 5 gestures correctly. Please import the following libraries to get started."
   ]
  },
  {
   "cell_type": "code",
   "execution_count": 1,
   "metadata": {},
   "outputs": [],
   "source": [
    "import numpy as np\n",
    "import os\n",
    "from scipy.misc import imread, imresize\n",
    "import datetime\n",
    "import os"
   ]
  },
  {
   "cell_type": "markdown",
   "metadata": {},
   "source": [
    "We set the random seed so that the results don't vary drastically."
   ]
  },
  {
   "cell_type": "code",
   "execution_count": 2,
   "metadata": {},
   "outputs": [
    {
     "name": "stderr",
     "output_type": "stream",
     "text": [
      "Using TensorFlow backend.\n"
     ]
    }
   ],
   "source": [
    "np.random.seed(30)\n",
    "import random as rn\n",
    "rn.seed(30)\n",
    "from keras import backend as K\n",
    "import tensorflow as tf\n",
    "tf.set_random_seed(30)"
   ]
  },
  {
   "cell_type": "code",
   "execution_count": 3,
   "metadata": {},
   "outputs": [],
   "source": [
    "import warnings\n",
    "warnings.filterwarnings('ignore')"
   ]
  },
  {
   "cell_type": "markdown",
   "metadata": {},
   "source": [
    "In this block, you read the folder names for training and validation. You also set the `batch_size` here. Note that you set the batch size in such a way that you are able to use the GPU in full capacity. You keep increasing the batch size until the machine throws an error."
   ]
  },
  {
   "cell_type": "code",
   "execution_count": 4,
   "metadata": {},
   "outputs": [],
   "source": [
    "train_doc = np.random.permutation(open('../Project_data/train.csv').readlines())\n",
    "val_doc = np.random.permutation(open('../Project_data/val.csv').readlines())\n",
    "batch_size = 10 #experiment with the batch size"
   ]
  },
  {
   "cell_type": "markdown",
   "metadata": {},
   "source": [
    "## Generator\n",
    "This is one of the most important part of the code. The overall structure of the generator has been given. In the generator, you are going to preprocess the images as you have images of 2 different dimensions as well as create a batch of video frames. You have to experiment with `img_idx`, `y`,`z` and normalization such that you get high accuracy."
   ]
  },
  {
   "cell_type": "code",
   "execution_count": 5,
   "metadata": {},
   "outputs": [],
   "source": [
    "def generator(source_path, folder_list, batch_size):\n",
    "    print( 'Source path = ', source_path, ';\\nBatch size =', batch_size)\n",
    "    img_idx = [index for index in range(0, 30, 2)] #create a list of image numbers you want to use for a particular video\n",
    "    while True:\n",
    "        t = np.random.permutation(folder_list)\n",
    "        num_batches = len(folder_list) // batch_size # calculate the number of batches\n",
    "        for batch in range(num_batches): # we iterate over the number of batches\n",
    "            batch_data = np.zeros((batch_size,15,100,100,3)) # x is the number of images you use for each video, (y,z) is the final size of the input images and 3 is the number of channels RGB\n",
    "            batch_labels = np.zeros((batch_size,5)) # batch_labels is the one hot representation of the output\n",
    "            for folder in range(batch_size): # iterate over the batch_size\n",
    "                imgs = sorted(os.listdir(source_path+'/'+ t[folder + (batch*batch_size)].split(';')[0])) # read all the images in the folder\n",
    "                for idx,item in enumerate(img_idx): #  Iterate iver the frames/images of a folder to read them in\n",
    "                    image = imread(source_path+'/'+ t[folder + (batch*batch_size)].strip().split(';')[0]+'/'+imgs[item]).astype(np.float32)\n",
    "                    \n",
    "                    #crop the images and resize them. Note that the images are of 2 different shape \n",
    "                    #and the conv3D will throw error if the inputs in a batch have different shapes\n",
    "                    image = imresize(image, size=(100, 100), mode='RGB')\n",
    "                    \n",
    "                    batch_data[folder,idx,:,:,0] = (image[:,:,0] - np.mean(image[:,:,0]) / np.std(image[:,:,0])) #normalise and feed in the image\n",
    "                    batch_data[folder,idx,:,:,1] = (image[:,:,1] - np.mean(image[:,:,1]) / np.std(image[:,:,1])) #normalise and feed in the image\n",
    "                    batch_data[folder,idx,:,:,2] = (image[:,:,2] - np.mean(image[:,:,2]) / np.std(image[:,:,2])) #normalise and feed in the image\n",
    "                    \n",
    "                batch_labels[folder, int(t[folder + (batch*batch_size)].strip().split(';')[2])] = 1\n",
    "            yield batch_data, batch_labels #you yield the batch_data and the batch_labels, remember what does yield do\n",
    "\n",
    "        \n",
    "        # write the code for the remaining data points which are left after full batches\n",
    "        if (len(folder_list) != batch_size*num_batches):\n",
    "            batch_size = len(folder_list) - (batch_size * num_batches)\n",
    "            for folder in range(batch_size):\n",
    "                imgs = sorted(os.listdir(source_path+'/'+ t[folder + (num_batches*batch_size)].split(';')[0])) # read all the images in the folder\n",
    "                for idx,item in enumerate(img_idx): #  Iterate iver the frames/images of a folder to read them in\n",
    "                    image = imread(source_path+'/'+ t[folder + (num_batches*batch_size)].strip().split(';')[0]+'/'+imgs[item]).astype(np.float32)\n",
    "                    \n",
    "                    #crop the images and resize them. Note that the images are of 2 different shape \n",
    "                    #and the conv3D will throw error if the inputs in a batch have different shapes\n",
    "                    # if image.shape == (360, 360, 3):\n",
    "                    image = imresize(image, size=(100, 100), mode='RGB')\n",
    "                    \n",
    "                    batch_data[folder,idx,:,:,0] = (image[:,:,0] - np.mean(image[:,:,0]) / np.std(image[:,:,0])) #normalise and feed in the image\n",
    "                    batch_data[folder,idx,:,:,1] = (image[:,:,1] - np.mean(image[:,:,1]) / np.std(image[:,:,1])) #normalise and feed in the image\n",
    "                    batch_data[folder,idx,:,:,2] = (image[:,:,2] - np.mean(image[:,:,2]) / np.std(image[:,:,2])) #normalise and feed in the image\n",
    "                    \n",
    "                batch_labels[folder, int(t[folder + (num_batches*batch_size)].strip().split(';')[2])] = 1\n",
    "            yield batch_data, batch_labels #you yield the batch_data and the batch_labels, remember what does yield do"
   ]
  },
  {
   "cell_type": "markdown",
   "metadata": {},
   "source": [
    "Note here that a video is represented above in the generator as (number of images, height, width, number of channels). Take this into consideration while creating the model architecture."
   ]
  },
  {
   "cell_type": "code",
   "execution_count": 7,
   "metadata": {},
   "outputs": [
    {
     "name": "stdout",
     "output_type": "stream",
     "text": [
      "# training sequences = 663\n",
      "# validation sequences = 100\n",
      "# epochs = 20\n"
     ]
    }
   ],
   "source": [
    "curr_dt_time = datetime.datetime.now()\n",
    "train_path = '../Project_data/train'\n",
    "val_path = '../Project_data/val'\n",
    "num_train_sequences = len(train_doc)\n",
    "print('# training sequences =', num_train_sequences)\n",
    "num_val_sequences = len(val_doc)\n",
    "print('# validation sequences =', num_val_sequences)\n",
    "num_epochs = 20 # choose the number of epochs\n",
    "print ('# epochs =', num_epochs)"
   ]
  },
  {
   "cell_type": "markdown",
   "metadata": {},
   "source": [
    "## Model\n",
    "Here you make the model using different functionalities that Keras provides. Remember to use `Conv3D` and `MaxPooling3D` and not `Conv2D` and `Maxpooling2D` for a 3D convolution model. You would want to use `TimeDistributed` while building a Conv2D + RNN model. Also remember that the last layer is the softmax. Design the network in such a way that the model is able to give good accuracy on the least number of parameters so that it can fit in the memory of the webcam."
   ]
  },
  {
   "cell_type": "code",
   "execution_count": 8,
   "metadata": {},
   "outputs": [],
   "source": [
    "# Parameters initialization\n",
    "nb_rows = 100   # X dimension of the image\n",
    "nb_cols = 100   # Y dimesnion of the image\n",
    "nb_frames = 15  # lenght of the video frames\n",
    "nb_channel = 3 # numbe rof channels in images 3 for color(RGB) and 1 for Gray"
   ]
  },
  {
   "cell_type": "code",
   "execution_count": 9,
   "metadata": {},
   "outputs": [],
   "source": [
    "from keras.models import Sequential, Model\n",
    "from keras.layers import Dense, GRU, Flatten, TimeDistributed, Flatten, BatchNormalization, Activation, Dropout\n",
    "from keras.layers.convolutional import Conv3D, MaxPooling3D\n",
    "from keras.callbacks import ModelCheckpoint, ReduceLROnPlateau\n",
    "from keras import optimizers\n",
    "\n",
    "\n",
    "nb_filters = [8,16,32]\n",
    "nb_dense = [256, 128, 5]\n",
    "\n",
    "# Input\n",
    "input_shape=(nb_frames,nb_rows,nb_cols,nb_channel)\n",
    "\n",
    "# Define model\n",
    "model = Sequential()\n",
    "\n",
    "model.add(Conv3D(nb_filters[0], \n",
    "                 kernel_size=(3,3,3), \n",
    "                 input_shape=input_shape,\n",
    "                 padding='same'))\n",
    "model.add(BatchNormalization())\n",
    "model.add(Activation('relu'))\n",
    "\n",
    "model.add(MaxPooling3D(pool_size=(2,2,2)))\n",
    "\n",
    "model.add(Conv3D(nb_filters[1], \n",
    "                 kernel_size=(3,3,3), \n",
    "                 padding='same'))\n",
    "model.add(BatchNormalization())\n",
    "model.add(Activation('relu'))\n",
    "\n",
    "model.add(MaxPooling3D(pool_size=(2,2,2)))\n",
    "\n",
    "model.add(Conv3D(nb_filters[2], \n",
    "                 kernel_size=(3,3,3), \n",
    "                 padding='same'))\n",
    "model.add(BatchNormalization())\n",
    "model.add(Activation('relu'))\n",
    "\n",
    "model.add(MaxPooling3D(pool_size=(2,2,2)))\n",
    "\n",
    "#Flatten Layers\n",
    "model.add(Flatten())\n",
    "\n",
    "model.add(Dense(nb_dense[0], activation='relu'))\n",
    "model.add(Dropout(0.25))\n",
    "\n",
    "model.add(Dense(nb_dense[1], activation='relu'))\n",
    "model.add(Dropout(0.25))\n",
    "\n",
    "#softmax layer\n",
    "model.add(Dense(nb_dense[2], activation='softmax'))"
   ]
  },
  {
   "cell_type": "markdown",
   "metadata": {},
   "source": [
    "Now that you have written the model, the next step is to `compile` the model. When you print the `summary` of the model, you'll see the total number of parameters you have to train."
   ]
  },
  {
   "cell_type": "code",
   "execution_count": 10,
   "metadata": {
    "scrolled": true
   },
   "outputs": [
    {
     "name": "stdout",
     "output_type": "stream",
     "text": [
      "_________________________________________________________________\n",
      "Layer (type)                 Output Shape              Param #   \n",
      "=================================================================\n",
      "conv3d_1 (Conv3D)            (None, 15, 100, 100, 8)   656       \n",
      "_________________________________________________________________\n",
      "batch_normalization_1 (Batch (None, 15, 100, 100, 8)   32        \n",
      "_________________________________________________________________\n",
      "activation_1 (Activation)    (None, 15, 100, 100, 8)   0         \n",
      "_________________________________________________________________\n",
      "max_pooling3d_1 (MaxPooling3 (None, 7, 50, 50, 8)      0         \n",
      "_________________________________________________________________\n",
      "conv3d_2 (Conv3D)            (None, 7, 50, 50, 16)     3472      \n",
      "_________________________________________________________________\n",
      "batch_normalization_2 (Batch (None, 7, 50, 50, 16)     64        \n",
      "_________________________________________________________________\n",
      "activation_2 (Activation)    (None, 7, 50, 50, 16)     0         \n",
      "_________________________________________________________________\n",
      "max_pooling3d_2 (MaxPooling3 (None, 3, 25, 25, 16)     0         \n",
      "_________________________________________________________________\n",
      "conv3d_3 (Conv3D)            (None, 3, 25, 25, 32)     13856     \n",
      "_________________________________________________________________\n",
      "batch_normalization_3 (Batch (None, 3, 25, 25, 32)     128       \n",
      "_________________________________________________________________\n",
      "activation_3 (Activation)    (None, 3, 25, 25, 32)     0         \n",
      "_________________________________________________________________\n",
      "max_pooling3d_3 (MaxPooling3 (None, 1, 12, 12, 32)     0         \n",
      "_________________________________________________________________\n",
      "flatten_1 (Flatten)          (None, 4608)              0         \n",
      "_________________________________________________________________\n",
      "dense_1 (Dense)              (None, 256)               1179904   \n",
      "_________________________________________________________________\n",
      "dropout_1 (Dropout)          (None, 256)               0         \n",
      "_________________________________________________________________\n",
      "dense_2 (Dense)              (None, 128)               32896     \n",
      "_________________________________________________________________\n",
      "dropout_2 (Dropout)          (None, 128)               0         \n",
      "_________________________________________________________________\n",
      "dense_3 (Dense)              (None, 5)                 645       \n",
      "=================================================================\n",
      "Total params: 1,231,653\n",
      "Trainable params: 1,231,541\n",
      "Non-trainable params: 112\n",
      "_________________________________________________________________\n",
      "None\n"
     ]
    }
   ],
   "source": [
    "optimiser = optimizers.Adam() #write your optimizer\n",
    "model.compile(optimizer=optimiser, loss='categorical_crossentropy', metrics=['categorical_accuracy'])\n",
    "print (model.summary())"
   ]
  },
  {
   "cell_type": "markdown",
   "metadata": {},
   "source": [
    "Let us create the `train_generator` and the `val_generator` which will be used in `.fit_generator`."
   ]
  },
  {
   "cell_type": "code",
   "execution_count": 11,
   "metadata": {},
   "outputs": [],
   "source": [
    "train_generator = generator(train_path, train_doc, batch_size)\n",
    "val_generator = generator(val_path, val_doc, batch_size)"
   ]
  },
  {
   "cell_type": "code",
   "execution_count": 12,
   "metadata": {},
   "outputs": [],
   "source": [
    "model_name = 'model_init' + '_' + str(curr_dt_time).replace(' ','').replace(':','_') + '/'\n",
    "    \n",
    "if not os.path.exists(model_name):\n",
    "    os.mkdir(model_name)\n",
    "        \n",
    "filepath = model_name + 'model-{epoch:05d}-{loss:.5f}-{categorical_accuracy:.5f}-{val_loss:.5f}-{val_categorical_accuracy:.5f}.h5'\n",
    "\n",
    "checkpoint = ModelCheckpoint(filepath, monitor='val_loss', verbose=1, save_best_only=False, save_weights_only=False, mode='auto', period=1)\n",
    "\n",
    "LR = ReduceLROnPlateau(monitor='val_loss', factor=0.5, patience=2, cooldown=1, verbose=1) # write the REducelronplateau code here\n",
    "callbacks_list = [checkpoint, LR]"
   ]
  },
  {
   "cell_type": "markdown",
   "metadata": {},
   "source": [
    "The `steps_per_epoch` and `validation_steps` are used by `fit_generator` to decide the number of next() calls it need to make."
   ]
  },
  {
   "cell_type": "markdown",
   "metadata": {},
   "source": [
    "### Final Model with Batch size 10 and epochs 20"
   ]
  },
  {
   "cell_type": "code",
   "execution_count": 13,
   "metadata": {},
   "outputs": [],
   "source": [
    "if (num_train_sequences%batch_size) == 0:\n",
    "    steps_per_epoch = int(num_train_sequences/batch_size)\n",
    "else:\n",
    "    steps_per_epoch = (num_train_sequences//batch_size) + 1\n",
    "\n",
    "if (num_val_sequences%batch_size) == 0:\n",
    "    validation_steps = int(num_val_sequences/batch_size)\n",
    "else:\n",
    "    validation_steps = (num_val_sequences//batch_size) + 1"
   ]
  },
  {
   "cell_type": "markdown",
   "metadata": {},
   "source": [
    "Let us now fit the model. This will start training the model and with the help of the checkpoints, you'll be able to save the model at the end of each epoch."
   ]
  },
  {
   "cell_type": "markdown",
   "metadata": {},
   "source": [
    "**Note:** <br>\n",
    "We have commented the below code, as we didn't wanted to accidently run the training process again. <br>\n",
    "If you wish to train the model again please uncomment it and train the model."
   ]
  },
  {
   "cell_type": "code",
   "execution_count": 26,
   "metadata": {},
   "outputs": [
    {
     "name": "stdout",
     "output_type": "stream",
     "text": [
      "Source path =  ../Project_data/val ;\n",
      "Batch size = 10\n",
      "Source path =  ../Project_data/train ;\n",
      "Batch size = 10\n",
      "Epoch 1/20\n",
      "67/67 [==============================] - 44s 652ms/step - loss: 2.1841 - categorical_accuracy: 0.3284 - val_loss: 1.1267 - val_categorical_accuracy: 0.5800\n",
      "\n",
      "Epoch 00001: saving model to model_init_2019-10-2614_01_11.854855/model-00001-2.18412-0.32836-1.12674-0.58000.h5\n",
      "Epoch 2/20\n",
      "67/67 [==============================] - 14s 211ms/step - loss: 1.4219 - categorical_accuracy: 0.4129 - val_loss: 1.6930 - val_categorical_accuracy: 0.2200\n",
      "\n",
      "Epoch 00002: saving model to model_init_2019-10-2614_01_11.854855/model-00002-1.42194-0.41294-1.69299-0.22000.h5\n",
      "Epoch 3/20\n",
      "67/67 [==============================] - 15s 221ms/step - loss: 1.2878 - categorical_accuracy: 0.4527 - val_loss: 1.1223 - val_categorical_accuracy: 0.5400\n",
      "\n",
      "Epoch 00003: saving model to model_init_2019-10-2614_01_11.854855/model-00003-1.28775-0.45274-1.12228-0.54000.h5\n",
      "Epoch 4/20\n",
      "67/67 [==============================] - 15s 222ms/step - loss: 1.1987 - categorical_accuracy: 0.4776 - val_loss: 1.1032 - val_categorical_accuracy: 0.5600\n",
      "\n",
      "Epoch 00004: saving model to model_init_2019-10-2614_01_11.854855/model-00004-1.19866-0.47761-1.10323-0.56000.h5\n",
      "Epoch 5/20\n",
      "67/67 [==============================] - 15s 220ms/step - loss: 1.1037 - categorical_accuracy: 0.5224 - val_loss: 4.3262 - val_categorical_accuracy: 0.2600\n",
      "\n",
      "Epoch 00005: saving model to model_init_2019-10-2614_01_11.854855/model-00005-1.10373-0.52239-4.32623-0.26000.h5\n",
      "Epoch 6/20\n",
      "67/67 [==============================] - 15s 227ms/step - loss: 0.9146 - categorical_accuracy: 0.6468 - val_loss: 1.1178 - val_categorical_accuracy: 0.5800\n",
      "\n",
      "Epoch 00006: saving model to model_init_2019-10-2614_01_11.854855/model-00006-0.91459-0.64677-1.11776-0.58000.h5\n",
      "\n",
      "Epoch 00006: ReduceLROnPlateau reducing learning rate to 0.0005000000237487257.\n",
      "Epoch 7/20\n",
      "67/67 [==============================] - 14s 207ms/step - loss: 0.8230 - categorical_accuracy: 0.7264 - val_loss: 0.8903 - val_categorical_accuracy: 0.6600\n",
      "\n",
      "Epoch 00007: saving model to model_init_2019-10-2614_01_11.854855/model-00007-0.82305-0.72637-0.89033-0.66000.h5\n",
      "Epoch 8/20\n",
      "67/67 [==============================] - 15s 225ms/step - loss: 0.6550 - categorical_accuracy: 0.7363 - val_loss: 1.2452 - val_categorical_accuracy: 0.5300\n",
      "\n",
      "Epoch 00008: saving model to model_init_2019-10-2614_01_11.854855/model-00008-0.65496-0.73632-1.24525-0.53000.h5\n",
      "Epoch 9/20\n",
      "67/67 [==============================] - 15s 219ms/step - loss: 0.4550 - categorical_accuracy: 0.8259 - val_loss: 0.4853 - val_categorical_accuracy: 0.8400\n",
      "\n",
      "Epoch 00009: saving model to model_init_2019-10-2614_01_11.854855/model-00009-0.45495-0.82587-0.48530-0.84000.h5\n",
      "Epoch 10/20\n",
      "67/67 [==============================] - 15s 222ms/step - loss: 0.5388 - categorical_accuracy: 0.8060 - val_loss: 0.7527 - val_categorical_accuracy: 0.7500\n",
      "\n",
      "Epoch 00010: saving model to model_init_2019-10-2614_01_11.854855/model-00010-0.53878-0.80597-0.75273-0.75000.h5\n",
      "Epoch 11/20\n",
      "67/67 [==============================] - 14s 213ms/step - loss: 0.5314 - categorical_accuracy: 0.8308 - val_loss: 0.6307 - val_categorical_accuracy: 0.7800\n",
      "\n",
      "Epoch 00011: saving model to model_init_2019-10-2614_01_11.854855/model-00011-0.53141-0.83085-0.63066-0.78000.h5\n",
      "\n",
      "Epoch 00011: ReduceLROnPlateau reducing learning rate to 0.0002500000118743628.\n",
      "Epoch 12/20\n",
      "67/67 [==============================] - 15s 227ms/step - loss: 0.2792 - categorical_accuracy: 0.9254 - val_loss: 0.4892 - val_categorical_accuracy: 0.8400\n",
      "\n",
      "Epoch 00012: saving model to model_init_2019-10-2614_01_11.854855/model-00012-0.27922-0.92537-0.48924-0.84000.h5\n",
      "Epoch 13/20\n",
      "67/67 [==============================] - 14s 216ms/step - loss: 0.2718 - categorical_accuracy: 0.9154 - val_loss: 0.4481 - val_categorical_accuracy: 0.8300\n",
      "\n",
      "Epoch 00013: saving model to model_init_2019-10-2614_01_11.854855/model-00013-0.27176-0.91542-0.44811-0.83000.h5\n",
      "Epoch 14/20\n",
      "67/67 [==============================] - 14s 209ms/step - loss: 0.3389 - categorical_accuracy: 0.8955 - val_loss: 0.3447 - val_categorical_accuracy: 0.9000\n",
      "\n",
      "Epoch 00014: saving model to model_init_2019-10-2614_01_11.854855/model-00014-0.33886-0.89552-0.34473-0.90000.h5\n",
      "Epoch 15/20\n",
      "67/67 [==============================] - 15s 228ms/step - loss: 0.2319 - categorical_accuracy: 0.9204 - val_loss: 0.3610 - val_categorical_accuracy: 0.8900\n",
      "\n",
      "Epoch 00015: saving model to model_init_2019-10-2614_01_11.854855/model-00015-0.23190-0.92040-0.36103-0.89000.h5\n",
      "Epoch 16/20\n",
      "67/67 [==============================] - 14s 213ms/step - loss: 0.2438 - categorical_accuracy: 0.9005 - val_loss: 0.5461 - val_categorical_accuracy: 0.8200\n",
      "\n",
      "Epoch 00016: saving model to model_init_2019-10-2614_01_11.854855/model-00016-0.24384-0.90050-0.54613-0.82000.h5\n",
      "\n",
      "Epoch 00016: ReduceLROnPlateau reducing learning rate to 0.0001250000059371814.\n",
      "Epoch 17/20\n",
      "67/67 [==============================] - 15s 217ms/step - loss: 0.2318 - categorical_accuracy: 0.9254 - val_loss: 0.3188 - val_categorical_accuracy: 0.9000\n",
      "\n",
      "Epoch 00017: saving model to model_init_2019-10-2614_01_11.854855/model-00017-0.23182-0.92537-0.31881-0.90000.h5\n",
      "Epoch 18/20\n",
      "67/67 [==============================] - 14s 211ms/step - loss: 0.1589 - categorical_accuracy: 0.9552 - val_loss: 0.3443 - val_categorical_accuracy: 0.9100\n",
      "\n",
      "Epoch 00018: saving model to model_init_2019-10-2614_01_11.854855/model-00018-0.15893-0.95522-0.34428-0.91000.h5\n",
      "Epoch 19/20\n",
      "67/67 [==============================] - 14s 211ms/step - loss: 0.1609 - categorical_accuracy: 0.9303 - val_loss: 0.3475 - val_categorical_accuracy: 0.9100\n",
      "\n",
      "Epoch 00019: saving model to model_init_2019-10-2614_01_11.854855/model-00019-0.16087-0.93035-0.34749-0.91000.h5\n",
      "\n",
      "Epoch 00019: ReduceLROnPlateau reducing learning rate to 6.25000029685907e-05.\n",
      "Epoch 20/20\n",
      "67/67 [==============================] - 15s 218ms/step - loss: 0.1590 - categorical_accuracy: 0.9552 - val_loss: 0.2988 - val_categorical_accuracy: 0.9200\n",
      "\n",
      "Epoch 00020: saving model to model_init_2019-10-2614_01_11.854855/model-00020-0.15896-0.95522-0.29875-0.92000.h5\n"
     ]
    },
    {
     "data": {
      "text/plain": [
       "<keras.callbacks.History at 0x7f7867fa4518>"
      ]
     },
     "execution_count": 26,
     "metadata": {},
     "output_type": "execute_result"
    }
   ],
   "source": [
    "# model.fit_generator(train_generator, steps_per_epoch=steps_per_epoch, epochs=num_epochs, verbose=1, \n",
    "#                     callbacks=callbacks_list, validation_data=val_generator, \n",
    "#                     validation_steps=validation_steps, class_weight=None, workers=1, initial_epoch=0)"
   ]
  },
  {
   "cell_type": "markdown",
   "metadata": {},
   "source": [
    "### Load the weights and test the model"
   ]
  },
  {
   "cell_type": "code",
   "execution_count": 14,
   "metadata": {},
   "outputs": [],
   "source": [
    "model.load_weights('model-00020-0.15896-0.95522-0.29875-0.92000.h5')"
   ]
  },
  {
   "cell_type": "code",
   "execution_count": 15,
   "metadata": {},
   "outputs": [
    {
     "name": "stdout",
     "output_type": "stream",
     "text": [
      "Source path =  ../Project_data/val ;\n",
      "Batch size = 10\n"
     ]
    },
    {
     "data": {
      "text/plain": [
       "[0.29875481948256494, 0.9199999928474426]"
      ]
     },
     "execution_count": 15,
     "metadata": {},
     "output_type": "execute_result"
    }
   ],
   "source": [
    "model.evaluate_generator(val_generator, steps=10)"
   ]
  },
  {
   "cell_type": "markdown",
   "metadata": {},
   "source": [
    "### Experiment with different batch size and number of epochs\n",
    "The below code are the experiments with the number of epochs and batch size. <br>\n",
    "It has been kept in the notebook to demonstrate the results we got by choosing different batch size and epochs. Our final model has been mentioned above in the comments."
   ]
  },
  {
   "cell_type": "markdown",
   "metadata": {},
   "source": [
    "#### Batch size 32 and epoch 20"
   ]
  },
  {
   "cell_type": "code",
   "execution_count": 12,
   "metadata": {},
   "outputs": [],
   "source": [
    "batch_size = 32\n",
    "num_epochs = 20\n",
    "\n",
    "if (num_train_sequences%batch_size) == 0:\n",
    "    steps_per_epoch = int(num_train_sequences/batch_size)\n",
    "else:\n",
    "    steps_per_epoch = (num_train_sequences//batch_size) + 1\n",
    "\n",
    "if (num_val_sequences%batch_size) == 0:\n",
    "    validation_steps = int(num_val_sequences/batch_size)\n",
    "else:\n",
    "    validation_steps = (num_val_sequences//batch_size) + 1"
   ]
  },
  {
   "cell_type": "code",
   "execution_count": 36,
   "metadata": {},
   "outputs": [
    {
     "name": "stdout",
     "output_type": "stream",
     "text": [
      "Source path =  ../Project_data/val ;\n",
      "Batch size = 32\n",
      "Source path =  ../Project_data/train ;\n",
      "Batch size = 32\n",
      "Epoch 1/20\n",
      "21/21 [==============================] - 45s 2s/step - loss: 2.5068 - categorical_accuracy: 0.2917 - val_loss: 1.3430 - val_categorical_accuracy: 0.3281\n",
      "\n",
      "Epoch 00001: saving model to model_init_2019-10-2614_06_46.656098/model-00001-2.50680-0.29167-1.34298-0.32812.h5\n",
      "Epoch 2/20\n",
      "21/21 [==============================] - 28s 1s/step - loss: 1.3581 - categorical_accuracy: 0.3913 - val_loss: 1.3349 - val_categorical_accuracy: 0.4375\n",
      "\n",
      "Epoch 00002: saving model to model_init_2019-10-2614_06_46.656098/model-00002-1.35807-0.39130-1.33490-0.43750.h5\n",
      "Epoch 3/20\n",
      "21/21 [==============================] - 25s 1s/step - loss: 1.2488 - categorical_accuracy: 0.5037 - val_loss: 1.1557 - val_categorical_accuracy: 0.6875\n",
      "\n",
      "Epoch 00003: saving model to model_init_2019-10-2614_06_46.656098/model-00003-1.26613-0.49884-1.15572-0.68750.h5\n",
      "Epoch 4/20\n",
      "21/21 [==============================] - 25s 1s/step - loss: 1.0476 - categorical_accuracy: 0.5639 - val_loss: 1.9595 - val_categorical_accuracy: 0.2500\n",
      "\n",
      "Epoch 00004: saving model to model_init_2019-10-2614_06_46.656098/model-00004-1.04761-0.56391-1.95953-0.25000.h5\n",
      "Epoch 5/20\n",
      "21/21 [==============================] - 22s 1s/step - loss: 1.0198 - categorical_accuracy: 0.6334 - val_loss: 2.2043 - val_categorical_accuracy: 0.3125\n",
      "\n",
      "Epoch 00005: saving model to model_init_2019-10-2614_06_46.656098/model-00005-1.03345-0.63231-2.20432-0.31250.h5\n",
      "\n",
      "Epoch 00005: ReduceLROnPlateau reducing learning rate to 0.0005000000237487257.\n",
      "Epoch 6/20\n",
      "21/21 [==============================] - 21s 992ms/step - loss: 0.7899 - categorical_accuracy: 0.6807 - val_loss: 1.1967 - val_categorical_accuracy: 0.5625\n",
      "\n",
      "Epoch 00006: saving model to model_init_2019-10-2614_06_46.656098/model-00006-0.78993-0.68067-1.19671-0.56250.h5\n",
      "Epoch 7/20\n",
      "21/21 [==============================] - 23s 1s/step - loss: 0.6818 - categorical_accuracy: 0.7059 - val_loss: 1.6327 - val_categorical_accuracy: 0.4375\n",
      "\n",
      "Epoch 00007: saving model to model_init_2019-10-2614_06_46.656098/model-00007-0.68185-0.70588-1.63265-0.43750.h5\n",
      "\n",
      "Epoch 00007: ReduceLROnPlateau reducing learning rate to 0.0002500000118743628.\n",
      "Epoch 8/20\n",
      "21/21 [==============================] - 22s 1s/step - loss: 0.5879 - categorical_accuracy: 0.7647 - val_loss: 0.9749 - val_categorical_accuracy: 0.6250\n",
      "\n",
      "Epoch 00008: saving model to model_init_2019-10-2614_06_46.656098/model-00008-0.58793-0.76471-0.97488-0.62500.h5\n",
      "Epoch 9/20\n",
      "21/21 [==============================] - 22s 1s/step - loss: 0.5412 - categorical_accuracy: 0.8039 - val_loss: 1.7704 - val_categorical_accuracy: 0.3750\n",
      "\n",
      "Epoch 00009: saving model to model_init_2019-10-2614_06_46.656098/model-00009-0.54118-0.80392-1.77037-0.37500.h5\n",
      "Epoch 10/20\n",
      "21/21 [==============================] - 22s 1s/step - loss: 0.4490 - categorical_accuracy: 0.8403 - val_loss: 0.9785 - val_categorical_accuracy: 0.6250\n",
      "\n",
      "Epoch 00010: saving model to model_init_2019-10-2614_06_46.656098/model-00010-0.44896-0.84034-0.97855-0.62500.h5\n",
      "\n",
      "Epoch 00010: ReduceLROnPlateau reducing learning rate to 0.0001250000059371814.\n",
      "Epoch 11/20\n",
      "21/21 [==============================] - 20s 976ms/step - loss: 0.4521 - categorical_accuracy: 0.8375 - val_loss: 0.9756 - val_categorical_accuracy: 0.6875\n",
      "\n",
      "Epoch 00011: saving model to model_init_2019-10-2614_06_46.656098/model-00011-0.45211-0.83754-0.97565-0.68750.h5\n",
      "Epoch 12/20\n",
      "21/21 [==============================] - 21s 1s/step - loss: 0.4270 - categorical_accuracy: 0.8235 - val_loss: 0.2297 - val_categorical_accuracy: 0.9375\n",
      "\n",
      "Epoch 00012: saving model to model_init_2019-10-2614_06_46.656098/model-00012-0.42703-0.82353-0.22968-0.93750.h5\n",
      "Epoch 13/20\n",
      "21/21 [==============================] - 22s 1s/step - loss: 0.4020 - categorical_accuracy: 0.8543 - val_loss: 0.8747 - val_categorical_accuracy: 0.7500\n",
      "\n",
      "Epoch 00013: saving model to model_init_2019-10-2614_06_46.656098/model-00013-0.40201-0.85434-0.87469-0.75000.h5\n",
      "Epoch 14/20\n",
      "21/21 [==============================] - 22s 1s/step - loss: 0.3191 - categorical_accuracy: 0.8739 - val_loss: 0.7642 - val_categorical_accuracy: 0.6875\n",
      "\n",
      "Epoch 00014: saving model to model_init_2019-10-2614_06_46.656098/model-00014-0.31905-0.87395-0.76415-0.68750.h5\n",
      "\n",
      "Epoch 00014: ReduceLROnPlateau reducing learning rate to 6.25000029685907e-05.\n",
      "Epoch 15/20\n",
      "21/21 [==============================] - 22s 1s/step - loss: 0.3436 - categorical_accuracy: 0.8796 - val_loss: 0.7678 - val_categorical_accuracy: 0.6875\n",
      "\n",
      "Epoch 00015: saving model to model_init_2019-10-2614_06_46.656098/model-00015-0.34364-0.87955-0.76781-0.68750.h5\n",
      "Epoch 16/20\n",
      "21/21 [==============================] - 22s 1s/step - loss: 0.3180 - categorical_accuracy: 0.9048 - val_loss: 0.6662 - val_categorical_accuracy: 0.7500\n",
      "\n",
      "Epoch 00016: saving model to model_init_2019-10-2614_06_46.656098/model-00016-0.31795-0.90476-0.66619-0.75000.h5\n",
      "\n",
      "Epoch 00016: ReduceLROnPlateau reducing learning rate to 3.125000148429535e-05.\n",
      "Epoch 17/20\n",
      "21/21 [==============================] - 21s 1s/step - loss: 0.2615 - categorical_accuracy: 0.9188 - val_loss: 0.3705 - val_categorical_accuracy: 0.8750\n",
      "\n",
      "Epoch 00017: saving model to model_init_2019-10-2614_06_46.656098/model-00017-0.26154-0.91877-0.37055-0.87500.h5\n",
      "Epoch 18/20\n",
      "21/21 [==============================] - 21s 1s/step - loss: 0.2858 - categorical_accuracy: 0.9160 - val_loss: 0.2378 - val_categorical_accuracy: 1.0000\n",
      "\n",
      "Epoch 00018: saving model to model_init_2019-10-2614_06_46.656098/model-00018-0.28578-0.91597-0.23779-1.00000.h5\n",
      "\n",
      "Epoch 00018: ReduceLROnPlateau reducing learning rate to 1.5625000742147677e-05.\n",
      "Epoch 19/20\n",
      "21/21 [==============================] - 22s 1s/step - loss: 0.2744 - categorical_accuracy: 0.9076 - val_loss: 0.7692 - val_categorical_accuracy: 0.6875\n",
      "\n",
      "Epoch 00019: saving model to model_init_2019-10-2614_06_46.656098/model-00019-0.27441-0.90756-0.76921-0.68750.h5\n",
      "Epoch 20/20\n",
      "21/21 [==============================] - 21s 1s/step - loss: 0.2775 - categorical_accuracy: 0.8992 - val_loss: 0.8033 - val_categorical_accuracy: 0.7500\n",
      "\n",
      "Epoch 00020: saving model to model_init_2019-10-2614_06_46.656098/model-00020-0.27754-0.89916-0.80330-0.75000.h5\n",
      "\n",
      "Epoch 00020: ReduceLROnPlateau reducing learning rate to 7.812500371073838e-06.\n"
     ]
    },
    {
     "data": {
      "text/plain": [
       "<keras.callbacks.History at 0x7f7866f679e8>"
      ]
     },
     "execution_count": 36,
     "metadata": {},
     "output_type": "execute_result"
    }
   ],
   "source": [
    "# model.fit_generator(train_generator, steps_per_epoch=steps_per_epoch, epochs=num_epochs, verbose=1, \n",
    "#                     callbacks=callbacks_list, validation_data=val_generator, \n",
    "#                     validation_steps=validation_steps, class_weight=None, workers=1, initial_epoch=0)"
   ]
  },
  {
   "cell_type": "markdown",
   "metadata": {},
   "source": [
    "#### Batch size 64 and epoch 20"
   ]
  },
  {
   "cell_type": "code",
   "execution_count": 45,
   "metadata": {},
   "outputs": [],
   "source": [
    "batch_size = 64\n",
    "num_epochs = 20\n",
    "\n",
    "if (num_train_sequences%batch_size) == 0:\n",
    "    steps_per_epoch = int(num_train_sequences/batch_size)\n",
    "else:\n",
    "    steps_per_epoch = (num_train_sequences//batch_size) + 1\n",
    "\n",
    "if (num_val_sequences%batch_size) == 0:\n",
    "    validation_steps = int(num_val_sequences/batch_size)\n",
    "else:\n",
    "    validation_steps = (num_val_sequences//batch_size) + 1"
   ]
  },
  {
   "cell_type": "code",
   "execution_count": 46,
   "metadata": {},
   "outputs": [
    {
     "name": "stdout",
     "output_type": "stream",
     "text": [
      "Source path =  ../Project_data/val ;\n",
      "Batch size = 64\n",
      "Source path =  ../Project_data/train ;\n",
      "Batch size = 64\n",
      "Epoch 1/20\n",
      "11/11 [==============================] - 49s 4s/step - loss: 2.9584 - categorical_accuracy: 0.2500 - val_loss: 2.8912 - val_categorical_accuracy: 0.2812\n",
      "\n",
      "Epoch 00001: saving model to model_init_2019-10-2614_15_24.387212/model-00001-2.95844-0.25000-2.89123-0.28125.h5\n",
      "Epoch 2/20\n",
      "11/11 [==============================] - 14s 1s/step - loss: 1.5172 - categorical_accuracy: 0.3676 - val_loss: 2.1238 - val_categorical_accuracy: 0.3333\n",
      "\n",
      "Epoch 00002: saving model to model_init_2019-10-2614_15_24.387212/model-00002-1.51718-0.36759-2.12380-0.33333.h5\n",
      "Epoch 3/20\n",
      "11/11 [==============================] - 16s 1s/step - loss: 1.3691 - categorical_accuracy: 0.4545 - val_loss: 2.4259 - val_categorical_accuracy: 0.3125\n",
      "\n",
      "Epoch 00003: saving model to model_init_2019-10-2614_15_24.387212/model-00003-1.36910-0.45455-2.42593-0.31250.h5\n",
      "Epoch 4/20\n",
      "11/11 [==============================] - 15s 1s/step - loss: 1.3445 - categorical_accuracy: 0.5020 - val_loss: 1.5780 - val_categorical_accuracy: 0.5179\n",
      "\n",
      "Epoch 00004: saving model to model_init_2019-10-2614_15_24.387212/model-00004-1.35691-0.50211-1.57798-0.51786.h5\n",
      "Epoch 5/20\n",
      "11/11 [==============================] - 13s 1s/step - loss: 0.9991 - categorical_accuracy: 0.6411 - val_loss: 1.5460 - val_categorical_accuracy: 0.5909\n",
      "\n",
      "Epoch 00005: saving model to model_init_2019-10-2614_15_24.387212/model-00005-0.99915-0.64115-1.54602-0.59091.h5\n",
      "Epoch 6/20\n",
      "11/11 [==============================] - 12s 1s/step - loss: 0.8316 - categorical_accuracy: 0.6507 - val_loss: 0.9159 - val_categorical_accuracy: 0.5938\n",
      "\n",
      "Epoch 00006: saving model to model_init_2019-10-2614_15_24.387212/model-00006-0.83162-0.65072-0.91590-0.59375.h5\n",
      "Epoch 7/20\n",
      "11/11 [==============================] - 13s 1s/step - loss: 1.1784 - categorical_accuracy: 0.6599 - val_loss: 0.9992 - val_categorical_accuracy: 0.6562\n",
      "\n",
      "Epoch 00007: saving model to model_init_2019-10-2614_15_24.387212/model-00007-1.18609-0.65854-0.99919-0.65625.h5\n",
      "Epoch 8/20\n",
      "11/11 [==============================] - 11s 1s/step - loss: 0.7203 - categorical_accuracy: 0.6952 - val_loss: 2.6407 - val_categorical_accuracy: 0.6875\n",
      "\n",
      "Epoch 00008: saving model to model_init_2019-10-2614_15_24.387212/model-00008-0.72029-0.69519-2.64065-0.68750.h5\n",
      "\n",
      "Epoch 00008: ReduceLROnPlateau reducing learning rate to 0.0005000000237487257.\n",
      "Epoch 9/20\n",
      "11/11 [==============================] - 11s 1s/step - loss: 0.6800 - categorical_accuracy: 0.7326 - val_loss: 1.0597 - val_categorical_accuracy: 0.7500\n",
      "\n",
      "Epoch 00009: saving model to model_init_2019-10-2614_15_24.387212/model-00009-0.67998-0.73262-1.05971-0.75000.h5\n",
      "Epoch 10/20\n",
      "11/11 [==============================] - 11s 1s/step - loss: 0.5793 - categorical_accuracy: 0.7861 - val_loss: 1.8571 - val_categorical_accuracy: 0.3750\n",
      "\n",
      "Epoch 00010: saving model to model_init_2019-10-2614_15_24.387212/model-00010-0.57927-0.78610-1.85710-0.37500.h5\n",
      "\n",
      "Epoch 00010: ReduceLROnPlateau reducing learning rate to 0.0002500000118743628.\n",
      "Epoch 11/20\n",
      "11/11 [==============================] - 12s 1s/step - loss: 0.4684 - categorical_accuracy: 0.8182 - val_loss: 0.8505 - val_categorical_accuracy: 0.7500\n",
      "\n",
      "Epoch 00011: saving model to model_init_2019-10-2614_15_24.387212/model-00011-0.46842-0.81818-0.85053-0.75000.h5\n",
      "Epoch 12/20\n",
      "11/11 [==============================] - 11s 1s/step - loss: 0.4985 - categorical_accuracy: 0.8449 - val_loss: 0.5873 - val_categorical_accuracy: 0.8750\n",
      "\n",
      "Epoch 00012: saving model to model_init_2019-10-2614_15_24.387212/model-00012-0.49846-0.84492-0.58735-0.87500.h5\n",
      "Epoch 13/20\n",
      "11/11 [==============================] - 11s 1s/step - loss: 0.4291 - categorical_accuracy: 0.8342 - val_loss: 0.2715 - val_categorical_accuracy: 0.8750\n",
      "\n",
      "Epoch 00013: saving model to model_init_2019-10-2614_15_24.387212/model-00013-0.42915-0.83422-0.27150-0.87500.h5\n",
      "Epoch 14/20\n",
      "11/11 [==============================] - 11s 1s/step - loss: 0.4937 - categorical_accuracy: 0.7807 - val_loss: 1.0045 - val_categorical_accuracy: 0.6250\n",
      "\n",
      "Epoch 00014: saving model to model_init_2019-10-2614_15_24.387212/model-00014-0.49365-0.78075-1.00455-0.62500.h5\n",
      "Epoch 15/20\n",
      "11/11 [==============================] - 12s 1s/step - loss: 0.4433 - categorical_accuracy: 0.8235 - val_loss: 0.3320 - val_categorical_accuracy: 1.0000\n",
      "\n",
      "Epoch 00015: saving model to model_init_2019-10-2614_15_24.387212/model-00015-0.44335-0.82353-0.33198-1.00000.h5\n",
      "\n",
      "Epoch 00015: ReduceLROnPlateau reducing learning rate to 0.0001250000059371814.\n",
      "Epoch 16/20\n",
      "11/11 [==============================] - 11s 981ms/step - loss: 0.3486 - categorical_accuracy: 0.8824 - val_loss: 1.3228 - val_categorical_accuracy: 0.3750\n",
      "\n",
      "Epoch 00016: saving model to model_init_2019-10-2614_15_24.387212/model-00016-0.34863-0.88235-1.32276-0.37500.h5\n",
      "Epoch 17/20\n",
      "11/11 [==============================] - 11s 999ms/step - loss: 0.3769 - categorical_accuracy: 0.8556 - val_loss: 0.4473 - val_categorical_accuracy: 0.8750\n",
      "\n",
      "Epoch 00017: saving model to model_init_2019-10-2614_15_24.387212/model-00017-0.37691-0.85561-0.44730-0.87500.h5\n",
      "\n",
      "Epoch 00017: ReduceLROnPlateau reducing learning rate to 6.25000029685907e-05.\n",
      "Epoch 18/20\n",
      "11/11 [==============================] - 12s 1s/step - loss: 0.4752 - categorical_accuracy: 0.8182 - val_loss: 1.0748 - val_categorical_accuracy: 0.6250\n",
      "\n",
      "Epoch 00018: saving model to model_init_2019-10-2614_15_24.387212/model-00018-0.47520-0.81818-1.07482-0.62500.h5\n",
      "Epoch 19/20\n",
      "11/11 [==============================] - 12s 1s/step - loss: 0.3743 - categorical_accuracy: 0.8717 - val_loss: 0.3647 - val_categorical_accuracy: 0.8750\n",
      "\n",
      "Epoch 00019: saving model to model_init_2019-10-2614_15_24.387212/model-00019-0.37431-0.87166-0.36467-0.87500.h5\n",
      "\n",
      "Epoch 00019: ReduceLROnPlateau reducing learning rate to 3.125000148429535e-05.\n",
      "Epoch 20/20\n",
      "11/11 [==============================] - 11s 1s/step - loss: 0.3325 - categorical_accuracy: 0.8877 - val_loss: 2.1785 - val_categorical_accuracy: 0.3750\n",
      "\n",
      "Epoch 00020: saving model to model_init_2019-10-2614_15_24.387212/model-00020-0.33247-0.88770-2.17848-0.37500.h5\n"
     ]
    },
    {
     "data": {
      "text/plain": [
       "<keras.callbacks.History at 0x7f7865ed70f0>"
      ]
     },
     "execution_count": 46,
     "metadata": {},
     "output_type": "execute_result"
    }
   ],
   "source": [
    "# model.fit_generator(train_generator, steps_per_epoch=steps_per_epoch, epochs=num_epochs, verbose=1, \n",
    "#                     callbacks=callbacks_list, validation_data=val_generator, \n",
    "#                     validation_steps=validation_steps, class_weight=None, workers=1, initial_epoch=0)"
   ]
  },
  {
   "cell_type": "markdown",
   "metadata": {},
   "source": [
    "#### Batch Size 64 and epochs 30"
   ]
  },
  {
   "cell_type": "code",
   "execution_count": 55,
   "metadata": {},
   "outputs": [],
   "source": [
    "batch_size = 64\n",
    "num_epochs = 30\n",
    "\n",
    "if (num_train_sequences%batch_size) == 0:\n",
    "    steps_per_epoch = int(num_train_sequences/batch_size)\n",
    "else:\n",
    "    steps_per_epoch = (num_train_sequences//batch_size) + 1\n",
    "\n",
    "if (num_val_sequences%batch_size) == 0:\n",
    "    validation_steps = int(num_val_sequences/batch_size)\n",
    "else:\n",
    "    validation_steps = (num_val_sequences//batch_size) + 1"
   ]
  },
  {
   "cell_type": "code",
   "execution_count": 56,
   "metadata": {},
   "outputs": [
    {
     "name": "stdout",
     "output_type": "stream",
     "text": [
      "Source path =  ../Project_data/val ;\n",
      "Batch size = 64\n",
      "Source path =  ../Project_data/train ;\n",
      "Batch size = 64\n",
      "Epoch 1/30\n",
      "11/11 [==============================] - 49s 4s/step - loss: 2.8614 - categorical_accuracy: 0.2244 - val_loss: 3.3654 - val_categorical_accuracy: 0.3438\n",
      "\n",
      "Epoch 00001: saving model to model_init_2019-10-2614_20_40.529668/model-00001-2.86139-0.22443-3.36536-0.34375.h5\n",
      "Epoch 2/30\n",
      "11/11 [==============================] - 14s 1s/step - loss: 1.6351 - categorical_accuracy: 0.3162 - val_loss: 2.5253 - val_categorical_accuracy: 0.2917\n",
      "\n",
      "Epoch 00002: saving model to model_init_2019-10-2614_20_40.529668/model-00002-1.63507-0.31621-2.52528-0.29167.h5\n",
      "Epoch 3/30\n",
      "11/11 [==============================] - 16s 1s/step - loss: 1.4045 - categorical_accuracy: 0.4190 - val_loss: 1.9842 - val_categorical_accuracy: 0.4219\n",
      "\n",
      "Epoch 00003: saving model to model_init_2019-10-2614_20_40.529668/model-00003-1.40451-0.41897-1.98419-0.42187.h5\n",
      "Epoch 4/30\n",
      "11/11 [==============================] - 14s 1s/step - loss: 1.4987 - categorical_accuracy: 0.4217 - val_loss: 2.0915 - val_categorical_accuracy: 0.2679\n",
      "\n",
      "Epoch 00004: saving model to model_init_2019-10-2614_20_40.529668/model-00004-1.51280-0.41772-2.09154-0.26786.h5\n",
      "Epoch 5/30\n",
      "11/11 [==============================] - 13s 1s/step - loss: 1.0917 - categorical_accuracy: 0.5167 - val_loss: 2.9958 - val_categorical_accuracy: 0.2500\n",
      "\n",
      "Epoch 00005: saving model to model_init_2019-10-2614_20_40.529668/model-00005-1.09168-0.51675-2.99584-0.25000.h5\n",
      "\n",
      "Epoch 00005: ReduceLROnPlateau reducing learning rate to 0.0005000000237487257.\n",
      "Epoch 6/30\n",
      "11/11 [==============================] - 12s 1s/step - loss: 1.2162 - categorical_accuracy: 0.5263 - val_loss: 1.3891 - val_categorical_accuracy: 0.4062\n",
      "\n",
      "Epoch 00006: saving model to model_init_2019-10-2614_20_40.529668/model-00006-1.21620-0.52632-1.38913-0.40625.h5\n",
      "Epoch 7/30\n",
      "11/11 [==============================] - 13s 1s/step - loss: 1.2563 - categorical_accuracy: 0.5955 - val_loss: 2.1283 - val_categorical_accuracy: 0.2500\n",
      "\n",
      "Epoch 00007: saving model to model_init_2019-10-2614_20_40.529668/model-00007-1.26070-0.59512-2.12827-0.25000.h5\n",
      "Epoch 8/30\n",
      "11/11 [==============================] - 11s 1s/step - loss: 0.9677 - categorical_accuracy: 0.5668 - val_loss: 4.0081 - val_categorical_accuracy: 0.2500\n",
      "\n",
      "Epoch 00008: saving model to model_init_2019-10-2614_20_40.529668/model-00008-0.96767-0.56684-4.00814-0.25000.h5\n",
      "\n",
      "Epoch 00008: ReduceLROnPlateau reducing learning rate to 0.0002500000118743628.\n",
      "Epoch 9/30\n",
      "11/11 [==============================] - 12s 1s/step - loss: 0.9953 - categorical_accuracy: 0.5561 - val_loss: 0.9083 - val_categorical_accuracy: 0.6250\n",
      "\n",
      "Epoch 00009: saving model to model_init_2019-10-2614_20_40.529668/model-00009-0.99530-0.55615-0.90827-0.62500.h5\n",
      "Epoch 10/30\n",
      "11/11 [==============================] - 11s 1s/step - loss: 0.9391 - categorical_accuracy: 0.5829 - val_loss: 0.6332 - val_categorical_accuracy: 0.8750\n",
      "\n",
      "Epoch 00010: saving model to model_init_2019-10-2614_20_40.529668/model-00010-0.93905-0.58289-0.63324-0.87500.h5\n",
      "Epoch 11/30\n",
      "11/11 [==============================] - 11s 1s/step - loss: 0.7762 - categorical_accuracy: 0.7380 - val_loss: 1.1279 - val_categorical_accuracy: 0.6250\n",
      "\n",
      "Epoch 00011: saving model to model_init_2019-10-2614_20_40.529668/model-00011-0.77621-0.73797-1.12787-0.62500.h5\n",
      "Epoch 12/30\n",
      "11/11 [==============================] - 11s 962ms/step - loss: 0.8245 - categorical_accuracy: 0.6791 - val_loss: 0.9642 - val_categorical_accuracy: 0.3750\n",
      "\n",
      "Epoch 00012: saving model to model_init_2019-10-2614_20_40.529668/model-00012-0.82454-0.67914-0.96424-0.37500.h5\n",
      "\n",
      "Epoch 00012: ReduceLROnPlateau reducing learning rate to 0.0001250000059371814.\n",
      "Epoch 13/30\n",
      "11/11 [==============================] - 11s 1s/step - loss: 0.7150 - categorical_accuracy: 0.7433 - val_loss: 0.7015 - val_categorical_accuracy: 0.7500\n",
      "\n",
      "Epoch 00013: saving model to model_init_2019-10-2614_20_40.529668/model-00013-0.71502-0.74332-0.70150-0.75000.h5\n",
      "Epoch 14/30\n",
      "11/11 [==============================] - 12s 1s/step - loss: 0.6767 - categorical_accuracy: 0.7540 - val_loss: 0.8949 - val_categorical_accuracy: 0.6250\n",
      "\n",
      "Epoch 00014: saving model to model_init_2019-10-2614_20_40.529668/model-00014-0.67666-0.75401-0.89486-0.62500.h5\n",
      "\n",
      "Epoch 00014: ReduceLROnPlateau reducing learning rate to 6.25000029685907e-05.\n",
      "Epoch 15/30\n",
      "11/11 [==============================] - 11s 1s/step - loss: 0.7945 - categorical_accuracy: 0.6738 - val_loss: 0.3639 - val_categorical_accuracy: 0.8750\n",
      "\n",
      "Epoch 00015: saving model to model_init_2019-10-2614_20_40.529668/model-00015-0.79446-0.67380-0.36391-0.87500.h5\n",
      "Epoch 16/30\n",
      "11/11 [==============================] - 11s 1s/step - loss: 0.6473 - categorical_accuracy: 0.7754 - val_loss: 0.7852 - val_categorical_accuracy: 0.6250\n",
      "\n",
      "Epoch 00016: saving model to model_init_2019-10-2614_20_40.529668/model-00016-0.64734-0.77540-0.78524-0.62500.h5\n",
      "Epoch 17/30\n",
      "11/11 [==============================] - 11s 1s/step - loss: 0.6138 - categorical_accuracy: 0.8075 - val_loss: 0.9144 - val_categorical_accuracy: 0.6250\n",
      "\n",
      "Epoch 00017: saving model to model_init_2019-10-2614_20_40.529668/model-00017-0.61380-0.80749-0.91439-0.62500.h5\n",
      "\n",
      "Epoch 00017: ReduceLROnPlateau reducing learning rate to 3.125000148429535e-05.\n",
      "Epoch 18/30\n",
      "11/11 [==============================] - 11s 1s/step - loss: 0.7032 - categorical_accuracy: 0.6952 - val_loss: 0.4188 - val_categorical_accuracy: 0.7500\n",
      "\n",
      "Epoch 00018: saving model to model_init_2019-10-2614_20_40.529668/model-00018-0.70322-0.69519-0.41876-0.75000.h5\n",
      "Epoch 19/30\n",
      "11/11 [==============================] - 11s 1s/step - loss: 0.6295 - categorical_accuracy: 0.7594 - val_loss: 1.0556 - val_categorical_accuracy: 0.5000\n",
      "\n",
      "Epoch 00019: saving model to model_init_2019-10-2614_20_40.529668/model-00019-0.62954-0.75936-1.05558-0.50000.h5\n",
      "\n",
      "Epoch 00019: ReduceLROnPlateau reducing learning rate to 1.5625000742147677e-05.\n",
      "Epoch 20/30\n",
      "11/11 [==============================] - 11s 1s/step - loss: 0.6324 - categorical_accuracy: 0.7647 - val_loss: 0.5487 - val_categorical_accuracy: 0.8750\n",
      "\n",
      "Epoch 00020: saving model to model_init_2019-10-2614_20_40.529668/model-00020-0.63237-0.76471-0.54869-0.87500.h5\n",
      "Epoch 21/30\n",
      "11/11 [==============================] - 12s 1s/step - loss: 0.5806 - categorical_accuracy: 0.7754 - val_loss: 0.4193 - val_categorical_accuracy: 0.7500\n",
      "\n",
      "Epoch 00021: saving model to model_init_2019-10-2614_20_40.529668/model-00021-0.58056-0.77540-0.41926-0.75000.h5\n",
      "\n",
      "Epoch 00021: ReduceLROnPlateau reducing learning rate to 7.812500371073838e-06.\n",
      "Epoch 22/30\n",
      "11/11 [==============================] - 11s 1s/step - loss: 0.6151 - categorical_accuracy: 0.7807 - val_loss: 0.8263 - val_categorical_accuracy: 0.7500\n",
      "\n",
      "Epoch 00022: saving model to model_init_2019-10-2614_20_40.529668/model-00022-0.61511-0.78075-0.82633-0.75000.h5\n",
      "Epoch 23/30\n",
      "11/11 [==============================] - 12s 1s/step - loss: 0.6144 - categorical_accuracy: 0.7807 - val_loss: 0.5380 - val_categorical_accuracy: 0.8750\n",
      "\n",
      "Epoch 00023: saving model to model_init_2019-10-2614_20_40.529668/model-00023-0.61442-0.78075-0.53802-0.87500.h5\n",
      "\n",
      "Epoch 00023: ReduceLROnPlateau reducing learning rate to 3.906250185536919e-06.\n",
      "Epoch 24/30\n",
      "11/11 [==============================] - 11s 989ms/step - loss: 0.6169 - categorical_accuracy: 0.7861 - val_loss: 0.1262 - val_categorical_accuracy: 1.0000\n",
      "\n",
      "Epoch 00024: saving model to model_init_2019-10-2614_20_40.529668/model-00024-0.61690-0.78610-0.12619-1.00000.h5\n",
      "Epoch 25/30\n",
      "11/11 [==============================] - 12s 1s/step - loss: 0.6329 - categorical_accuracy: 0.7594 - val_loss: 0.4923 - val_categorical_accuracy: 0.8750\n",
      "\n",
      "Epoch 00025: saving model to model_init_2019-10-2614_20_40.529668/model-00025-0.63288-0.75936-0.49229-0.87500.h5\n",
      "Epoch 26/30\n",
      "11/11 [==============================] - 11s 981ms/step - loss: 0.5986 - categorical_accuracy: 0.7968 - val_loss: 1.0340 - val_categorical_accuracy: 0.3750\n",
      "\n",
      "Epoch 00026: saving model to model_init_2019-10-2614_20_40.529668/model-00026-0.59859-0.79679-1.03399-0.37500.h5\n",
      "\n",
      "Epoch 00026: ReduceLROnPlateau reducing learning rate to 1.9531250927684596e-06.\n",
      "Epoch 27/30\n",
      "11/11 [==============================] - 12s 1s/step - loss: 0.6114 - categorical_accuracy: 0.7647 - val_loss: 0.7699 - val_categorical_accuracy: 0.7500\n",
      "\n",
      "Epoch 00027: saving model to model_init_2019-10-2614_20_40.529668/model-00027-0.61136-0.76471-0.76986-0.75000.h5\n",
      "Epoch 28/30\n",
      "11/11 [==============================] - 11s 1s/step - loss: 0.6449 - categorical_accuracy: 0.7807 - val_loss: 0.5464 - val_categorical_accuracy: 0.8750\n",
      "\n",
      "Epoch 00028: saving model to model_init_2019-10-2614_20_40.529668/model-00028-0.64490-0.78075-0.54644-0.87500.h5\n",
      "\n",
      "Epoch 00028: ReduceLROnPlateau reducing learning rate to 9.765625463842298e-07.\n",
      "Epoch 29/30\n",
      "11/11 [==============================] - 12s 1s/step - loss: 0.6372 - categorical_accuracy: 0.7326 - val_loss: 0.8147 - val_categorical_accuracy: 0.6250\n",
      "\n",
      "Epoch 00029: saving model to model_init_2019-10-2614_20_40.529668/model-00029-0.63722-0.73262-0.81474-0.62500.h5\n",
      "Epoch 30/30\n",
      "11/11 [==============================] - 10s 939ms/step - loss: 0.5592 - categorical_accuracy: 0.8235 - val_loss: 0.7084 - val_categorical_accuracy: 0.7500\n",
      "\n",
      "Epoch 00030: saving model to model_init_2019-10-2614_20_40.529668/model-00030-0.55920-0.82353-0.70843-0.75000.h5\n",
      "\n",
      "Epoch 00030: ReduceLROnPlateau reducing learning rate to 4.882812731921149e-07.\n"
     ]
    },
    {
     "data": {
      "text/plain": [
       "<keras.callbacks.History at 0x7f7862c85a90>"
      ]
     },
     "execution_count": 56,
     "metadata": {},
     "output_type": "execute_result"
    }
   ],
   "source": [
    "# model.fit_generator(train_generator, steps_per_epoch=steps_per_epoch, epochs=num_epochs, verbose=1, \n",
    "#                     callbacks=callbacks_list, validation_data=val_generator, \n",
    "#                     validation_steps=validation_steps, class_weight=None, workers=1, initial_epoch=0)"
   ]
  },
  {
   "cell_type": "code",
   "execution_count": null,
   "metadata": {},
   "outputs": [],
   "source": []
  }
 ],
 "metadata": {
  "kernelspec": {
   "display_name": "Python 3",
   "language": "python",
   "name": "python3"
  },
  "language_info": {
   "codemirror_mode": {
    "name": "ipython",
    "version": 3
   },
   "file_extension": ".py",
   "mimetype": "text/x-python",
   "name": "python",
   "nbconvert_exporter": "python",
   "pygments_lexer": "ipython3",
   "version": "3.7.3"
  }
 },
 "nbformat": 4,
 "nbformat_minor": 4
}
